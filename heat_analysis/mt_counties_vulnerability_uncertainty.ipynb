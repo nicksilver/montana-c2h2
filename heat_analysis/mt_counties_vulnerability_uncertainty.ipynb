{
 "cells": [
  {
   "cell_type": "code",
   "execution_count": null,
   "metadata": {},
   "outputs": [],
   "source": [
    "import geopandas as gpd\n",
    "import matplotlib.pyplot as plt\n",
    "import pandas as pd\n",
    "import numpy as np\n",
    "from skcriteria import Data, MIN, MAX\n",
    "from skcriteria.madm import closeness, simple"
   ]
  },
  {
   "cell_type": "markdown",
   "metadata": {},
   "source": [
    "## Bring in data"
   ]
  },
  {
   "cell_type": "code",
   "execution_count": null,
   "metadata": {},
   "outputs": [],
   "source": [
    "lst_path = './aqua95_mtCounties.geojson' \n",
    "census_path = '../../../../Data/Census/acs2017_county_data_MT.csv'\n",
    "res_path = '../shapefiles/MontanaReservations_shp/MontanReservations_4326.shp'\n",
    "kh_path = './killer-heat-data-by-county-100.csv'\n",
    "kh_cols = ['State', 'County', 'Historical', 'MC_slow', 'MC_no', 'EC_slow', 'EC_no', 'Rapid_Action']\n",
    "lst_gdf = gpd.read_file(lst_path)\n",
    "cen_df = pd.read_csv(census_path)\n",
    "res_bounds = gpd.read_file(res_path)\n",
    "kh_df = pd.read_csv(kh_path, skiprows=3, names=kh_cols)\n",
    "kh_df = kh_df[kh_df['State'] == 'MT']\n",
    "kh_df.head()"
   ]
  },
  {
   "cell_type": "markdown",
   "metadata": {},
   "source": [
    "## Prepare DataFrame for analysis"
   ]
  },
  {
   "cell_type": "code",
   "execution_count": null,
   "metadata": {},
   "outputs": [],
   "source": [
    "lst_gdf['mean_F'] = (((lst_gdf['mean'] * 0.02) - 273.15) * (9/5.)) + 32\n",
    "lst_gdf['GEOID'] = lst_gdf['GEOID'].astype(int)\n",
    "kh_df['killer_heat_diff'] = kh_df['MC_no'] - kh_df['Historical']\n",
    "cen_df = pd.merge(cen_df, kh_df[['County', 'killer_heat_diff']], how='inner', left_on='County', right_on='County')\n",
    "gdf = pd.merge(lst_gdf, cen_df, how='inner', left_on='GEOID', right_on='CountyId')\n",
    "cols = ['CountyId', 'mean_F', 'killer_heat_diff', 'Income', 'Poverty', 'ChildPoverty', 'Construction', 'Production', 'Unemployment', 'Professional']\n",
    "data = gdf[cols]\n",
    "data = data.set_index('CountyId')\n",
    "data_norm = data/((data**2).sum())**0.5"
   ]
  },
  {
   "cell_type": "markdown",
   "metadata": {},
   "source": [
    "## Randomly weighted MCA"
   ]
  },
  {
   "cell_type": "code",
   "execution_count": null,
   "metadata": {},
   "outputs": [],
   "source": [
    "crit = [MIN, MIN, MAX, MIN, MIN, MIN, MIN, MIN, MAX]\n",
    "counties = data.index\n",
    "cnms = data.columns\n",
    "mtx = data.values\n",
    "\n",
    "n = 10000\n",
    "res = np.zeros([len(data), n])\n",
    "for i in range(n):\n",
    "    rand_wts = np.random.dirichlet(np.ones(7), size=1)*.49\n",
    "    wts = list(np.insert(rand_wts, 0, [0.255, 0.255]))\n",
    "    mca_data = Data(mtx, crit, anames=counties, cnames=cnms, weights=wts)\n",
    "    dm = closeness.TOPSIS()\n",
    "    dec = dm.decide(mca_data)\n",
    "    #res[:, i] = dec.rank_\n",
    "    res[:, i] = dec.e_.closeness\n",
    "# res_df = pd.DataFrame({\n",
    "#         \"name\": gdf['NAME'], \n",
    "#         \"min_rank\": res.min(axis=1),\n",
    "#         \"max_rank\": res.max(axis=1),\n",
    "#         \"median_rank\": np.median(res, axis=1).round(0)\n",
    "#         })\n",
    "res_df = pd.DataFrame(res)\n",
    "res_df.index = gdf['NAME'] \n",
    "res_df = res_df.T"
   ]
  },
  {
   "cell_type": "markdown",
   "metadata": {},
   "source": [
    "## Save results as csv"
   ]
  },
  {
   "cell_type": "code",
   "execution_count": null,
   "metadata": {},
   "outputs": [],
   "source": [
    "wts"
   ]
  },
  {
   "cell_type": "code",
   "execution_count": null,
   "metadata": {},
   "outputs": [],
   "source": [
    "\n",
    "# res_df.to_csv('prelim_county_vulnerability_rank_uncertainty.csv')"
   ]
  },
  {
   "cell_type": "markdown",
   "metadata": {},
   "source": [
    "## Plot w/ Seaborn"
   ]
  },
  {
   "cell_type": "code",
   "execution_count": null,
   "metadata": {},
   "outputs": [],
   "source": [
    "import seaborn as sns\n",
    "import matplotlib.pyplot as plt\n",
    "res_melt = pd.melt(res_df)\n",
    "plt.figure(figsize=(6,10))\n",
    "sns.set(font_scale=.9)\n",
    "ax = sns.boxplot(data=res_melt, x='value', y='NAME', fliersize=1)\n",
    "ax.set(ylabel='County', xlabel='Closeness')"
   ]
  },
  {
   "cell_type": "code",
   "execution_count": null,
   "metadata": {},
   "outputs": [],
   "source": [
    "fig = ax.get_figure()\n",
    "fig.savefig(\"ranked_heat_vulnerability_uncertainty_closeness.png\", bbox_inches=\"tight\", dpi=300)"
   ]
  },
  {
   "cell_type": "code",
   "execution_count": null,
   "metadata": {},
   "outputs": [],
   "source": []
  }
 ],
 "metadata": {
  "file_extension": ".py",
  "kernelspec": {
   "display_name": "Python 3",
   "language": "python",
   "name": "python3"
  },
  "language_info": {
   "codemirror_mode": {
    "name": "ipython",
    "version": 3
   },
   "file_extension": ".py",
   "mimetype": "text/x-python",
   "name": "python",
   "nbconvert_exporter": "python",
   "pygments_lexer": "ipython3",
   "version": "3.8.10"
  },
  "mimetype": "text/x-python",
  "name": "python",
  "npconvert_exporter": "python",
  "pygments_lexer": "ipython3",
  "version": 3
 },
 "nbformat": 4,
 "nbformat_minor": 4
}
