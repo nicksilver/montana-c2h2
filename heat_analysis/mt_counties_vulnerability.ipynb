{
 "cells": [
  {
   "cell_type": "code",
   "execution_count": null,
   "metadata": {},
   "outputs": [],
   "source": [
    "import geopandas as gpd\n",
    "import matplotlib.pyplot as plt\n",
    "import pandas as pd\n",
    "import numpy as np\n",
    "from skcriteria import Data, MIN, MAX"
   ]
  },
  {
   "cell_type": "markdown",
   "metadata": {},
   "source": [
    "## Bring in data"
   ]
  },
  {
   "cell_type": "code",
   "execution_count": null,
   "metadata": {},
   "outputs": [],
   "source": [
    "lst_path = './aqua95_mtCounties.geojson' \n",
    "census_path = '../../../../Data/Census/acs2017_county_data_MT.csv'\n",
    "res_path = '../shapefiles/MontanaReservations_shp/MontanReservations_4326.shp'\n",
    "kh_path = './killer-heat-data-by-county-100.csv'\n",
    "kh_cols = ['State', 'County', 'Historical', 'MC_slow', 'MC_no', 'EC_slow', 'EC_no', 'Rapid_Action']\n",
    "lst_gdf = gpd.read_file(lst_path)\n",
    "cen_df = pd.read_csv(census_path)\n",
    "res_bounds = gpd.read_file(res_path)\n",
    "kh_df = pd.read_csv(kh_path, skiprows=3, names=kh_cols)\n",
    "kh_df = kh_df[kh_df['State'] == 'MT']\n",
    "kh_df.head()"
   ]
  },
  {
   "cell_type": "markdown",
   "metadata": {},
   "source": [
    "## Prepare DataFrame for analysis"
   ]
  },
  {
   "cell_type": "code",
   "execution_count": null,
   "metadata": {},
   "outputs": [],
   "source": [
    "lst_gdf['mean_F'] = (((lst_gdf['mean'] * 0.02) - 273.15) * (9/5.)) + 32\n",
    "lst_gdf['GEOID'] = lst_gdf['GEOID'].astype(int)\n",
    "kh_df['killer_heat_diff'] = kh_df['MC_no'] - kh_df['Historical']\n",
    "cen_df = pd.merge(cen_df, kh_df[['County', 'killer_heat_diff']], how='inner', left_on='County', right_on='County')\n",
    "gdf = pd.merge(lst_gdf, cen_df, how='inner', left_on='GEOID', right_on='CountyId')\n",
    "cols = ['CountyId', 'mean_F', 'killer_heat_diff', 'Income', 'Poverty', 'ChildPoverty', 'Construction', 'Production', 'Unemployment', 'Professional']\n",
    "data = gdf[cols]\n",
    "data = data.set_index('CountyId')\n",
    "data_norm = data/((data**2).sum())**0.5"
   ]
  },
  {
   "cell_type": "markdown",
   "metadata": {},
   "source": [
    "## Rank socio-economic factors for Roosevelt"
   ]
  },
  {
   "cell_type": "code",
   "execution_count": null,
   "metadata": {},
   "outputs": [],
   "source": [
    "df_serank = gdf[cols].rank(method='min')\n",
    "df_serank['CountyId'] = gdf['CountyId']\n",
    "df_serank['Name'] = gdf['NAME']\n",
    "df_serank['Income'] = 57 - df_serank['Income']\n",
    "df_serank['Professional'] = 57 - df_serank['Professional']\n",
    "# df_serank[df_serank['Name'] == 'Roosevelt']\n",
    "df_serank.to_csv('county_variable_rankings.csv')"
   ]
  },
  {
   "cell_type": "markdown",
   "metadata": {},
   "source": [
    "## Create scikit object for analysis"
   ]
  },
  {
   "cell_type": "code",
   "execution_count": null,
   "metadata": {},
   "outputs": [],
   "source": [
    "# crit = [MAX, MIN, MAX, MAX, MAX, MAX, MAX]\n",
    "crit = [MIN, MIN, MAX, MIN, MIN, MIN, MIN, MIN, MAX]\n",
    "counties = data.index\n",
    "cnms = data.columns\n",
    "mtx = data.values\n",
    "wts = [0.255, 0.255, 0.07, 0.07, 0.07, 0.07, 0.07, 0.07, 0.07]\n",
    "# wts = [0.93, 0.01, 0.01, 0.01, 0.01, 0.01, 0.01, 0.01]\n",
    "mca_data = Data(mtx, crit, anames=counties, cnames=cnms, weights=wts)"
   ]
  },
  {
   "cell_type": "markdown",
   "metadata": {},
   "source": [
    "## MCA"
   ]
  },
  {
   "cell_type": "code",
   "execution_count": null,
   "metadata": {},
   "outputs": [],
   "source": [
    "from skcriteria.madm import closeness, simple\n",
    "dm = closeness.TOPSIS()\n",
    "dec = dm.decide(mca_data)\n",
    "gdf['vulnerability'] = dec.e_.closeness\n",
    "gdf['vul_rank'] = dec.rank_\n",
    "# dec.rank_[dec.e_.points==max(dec.e_.points)]\n",
    "# counties[dec.rank_==min(dec.rank_)], counties[dec.rank_==max(dec.rank_)]\n",
    "# dec.e_.closeness[dec.rank_==max(dec.rank_)], min(dec.e_.closeness)"
   ]
  },
  {
   "cell_type": "code",
   "execution_count": null,
   "metadata": {},
   "outputs": [],
   "source": [
    "gdf[['NAME', 'vulnerability']].to_csv('county_vulnerability_closeness.csv')"
   ]
  },
  {
   "cell_type": "markdown",
   "metadata": {},
   "source": [
    "## Plot"
   ]
  },
  {
   "cell_type": "code",
   "execution_count": null,
   "metadata": {},
   "outputs": [],
   "source": [
    "lst_gdf = lst_gdf.to_crs(epsg=3857)\n",
    "ax = lst_gdf.plot(column=\"mean_F\", cmap='OrRd', legend=True, figsize=[10,3], edgecolor='k', linewidth=0.5)\n",
    "ax.set_title('Extreme Heat Land Surface Temeperature')\n",
    "ax.axis('off')"
   ]
  },
  {
   "cell_type": "code",
   "execution_count": null,
   "metadata": {},
   "outputs": [],
   "source": [
    "fig = ax.get_figure()\n",
    "fig.savefig(\"modis_lst_95th_perc_mt_counties.png\", bbox_inches=\"tight\", dpi=300)"
   ]
  },
  {
   "cell_type": "code",
   "execution_count": null,
   "metadata": {},
   "outputs": [],
   "source": [
    "ax = gdf.plot(column='vul_rank', cmap='OrRd', legend=True, figsize=[10, 3])\n",
    "# res_bounds.geometry.boundary.plot(ax=ax, color=None, edgecolor='k', linewidth=1)  # Add reservation boundaries\n",
    "ax.set_title('Ranked Vulnerability to Heat')\n",
    "ax.axis('off')"
   ]
  },
  {
   "cell_type": "code",
   "execution_count": null,
   "metadata": {},
   "outputs": [],
   "source": [
    "# fig = ax.get_figure()\n",
    "# fig.savefig(\"ranked_heat_vulnerability_with_res.png\", bbox_inches=\"tight\", dpi=300)"
   ]
  },
  {
   "cell_type": "markdown",
   "metadata": {},
   "source": [
    "## High, medium, low groupings"
   ]
  },
  {
   "cell_type": "code",
   "execution_count": null,
   "metadata": {},
   "outputs": [],
   "source": [
    "# lower_perc = np.percentile(gdf.vulnerability, 33.33333)\n",
    "# upper_perc = np.percentile(gdf.vulnerability, 66.66667)\n",
    "lower_abs = 0.25\n",
    "mid_abs = 0.5\n",
    "upper_abs = 0.75\n",
    "upper = upper_abs\n",
    "mid = mid_abs\n",
    "lower = lower_abs\n",
    "gdf['rank_grouped'] = np.zeros(len(gdf))\n",
    "gdf['rank_grouped'][gdf['vulnerability'] >= upper] = 1\n",
    "gdf['rank_grouped'][(gdf['vulnerability'] < upper) & (gdf['vulnerability'] >= lower)] = 2\n",
    "gdf['rank_grouped'][gdf['vulnerability'] < lower] = 3\n",
    "grp_dict = {1.: 'Low', 2.: 'Medium', 3.: 'High'}\n",
    "\n",
    "\n",
    "def replace_legend_items(legend, mapping):\n",
    "    for txt in legend.texts:\n",
    "        for k,v in mapping.items():\n",
    "            if txt.get_text() == str(k):\n",
    "                txt.set_text(v)\n",
    " "
   ]
  },
  {
   "cell_type": "code",
   "execution_count": null,
   "metadata": {},
   "outputs": [],
   "source": [
    "gdf = gdf.to_crs(epsg=3857)\n",
    "ax = gdf.plot(column='rank_grouped', cmap='OrRd', categorical=True, \n",
    "    legend=True, figsize=[11, 4], legend_kwds={'loc': 'lower left'}, edgecolor='k')\n",
    "replace_legend_items(ax.get_legend(), grp_dict)\n",
    "ax.set_title('Vulnerability to Heat')\n",
    "ax.axis('off')"
   ]
  },
  {
   "cell_type": "code",
   "execution_count": null,
   "metadata": {},
   "outputs": [],
   "source": [
    "fig = ax.get_figure()\n",
    "fig.savefig(\"grouped_vulnerability_absolute.png\", bbox_inches=\"tight\", dpi=300)"
   ]
  },
  {
   "cell_type": "code",
   "execution_count": null,
   "metadata": {},
   "outputs": [],
   "source": [
    "(gdf['rank_grouped'] == 2.0).sum()"
   ]
  },
  {
   "cell_type": "code",
   "execution_count": null,
   "metadata": {},
   "outputs": [],
   "source": [
    "lower_abs = 0.25\n",
    "mid_abs = 0.5\n",
    "upper_abs = 0.75\n",
    "upper = upper_abs\n",
    "mid = mid_abs\n",
    "lower = lower_abs\n",
    "gdf['rank_grouped'] = np.zeros(len(gdf))\n",
    "gdf['rank_grouped'][gdf['vulnerability'] >= upper] = 1\n",
    "gdf['rank_grouped'][(gdf['vulnerability'] < upper) & (gdf['vulnerability'] >= mid)] = 2\n",
    "gdf['rank_grouped'][(gdf['vulnerability'] < mid) & (gdf['vulnerability'] >= lower)] = 3\n",
    "gdf['rank_grouped'][gdf['vulnerability'] < lower] = 4\n",
    "grp_dict = {1.: 'Low', 2.: 'Medium-low', 3.: 'Medium-high', 4.:'High'}"
   ]
  },
  {
   "cell_type": "code",
   "execution_count": null,
   "metadata": {},
   "outputs": [],
   "source": [
    "gdf = gdf.to_crs(epsg=3857)\n",
    "ax = gdf.plot(column='rank_grouped', cmap='OrRd', categorical=True, \n",
    "    legend=True, figsize=[12, 6], legend_kwds={'loc': 'lower left'}, edgecolor='k')\n",
    "replace_legend_items(ax.get_legend(), grp_dict)\n",
    "ax.set_title('Vulnerability to Heat')\n",
    "ax.axis('off')"
   ]
  },
  {
   "cell_type": "code",
   "execution_count": null,
   "metadata": {},
   "outputs": [],
   "source": [
    "fig = ax.get_figure()\n",
    "fig.savefig(\"grouped_vulnerability_absolute_4cats.png\", bbox_inches=\"tight\", dpi=300)"
   ]
  },
  {
   "cell_type": "code",
   "execution_count": null,
   "metadata": {},
   "outputs": [],
   "source": []
  },
  {
   "cell_type": "code",
   "execution_count": null,
   "metadata": {},
   "outputs": [],
   "source": [
    "(gdf['rank_grouped'] == 1).sum()"
   ]
  },
  {
   "cell_type": "code",
   "execution_count": null,
   "metadata": {},
   "outputs": [],
   "source": [
    "26+1+12+17\n"
   ]
  },
  {
   "cell_type": "code",
   "execution_count": null,
   "metadata": {},
   "outputs": [],
   "source": []
  }
 ],
 "metadata": {
  "file_extension": ".py",
  "kernelspec": {
   "display_name": "Python 3.6.12 64-bit ('general': conda)",
   "language": "python",
   "name": "python361264bitgeneralconda87676c6d05a949a187becd13b45b88c9"
  },
  "language_info": {
   "codemirror_mode": {
    "name": "ipython",
    "version": 3
   },
   "file_extension": ".py",
   "mimetype": "text/x-python",
   "name": "python",
   "nbconvert_exporter": "python",
   "pygments_lexer": "ipython3",
   "version": "3.6.12"
  },
  "mimetype": "text/x-python",
  "name": "python",
  "npconvert_exporter": "python",
  "pygments_lexer": "ipython3",
  "version": 3
 },
 "nbformat": 4,
 "nbformat_minor": 4
}
