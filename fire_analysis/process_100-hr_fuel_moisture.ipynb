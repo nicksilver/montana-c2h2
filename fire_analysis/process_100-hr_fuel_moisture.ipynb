{
 "cells": [
  {
   "cell_type": "code",
   "execution_count": 1,
   "metadata": {},
   "outputs": [],
   "source": [
    "import pandas as pd\n",
    "import glob"
   ]
  },
  {
   "cell_type": "code",
   "execution_count": 2,
   "metadata": {},
   "outputs": [],
   "source": [
    "path = \"/home/nick/Data/FireData/historical_100-hr_fuel_moisture_climdivs/\"\n",
    "files = glob.glob(path+'*.csv')\n",
    "df_all = pd.DataFrame()\n",
    "name_colname = 'NAME'\n",
    "# name_colname = 'GEOID'  # For counties"
   ]
  },
  {
   "cell_type": "code",
   "execution_count": 3,
   "metadata": {},
   "outputs": [],
   "source": [
    "for f in files:\n",
    "    data = pd.read_csv(f)\n",
    "    cty_geoid = data[name_colname]\n",
    "    data.drop(data.columns[-14:], axis=1, inplace=True)  # For climdivs\n",
    "    #data.drop(data.columns[-18:], axis=1, inplace=True)  # For counties\n",
    "    data.drop(data.columns[0], axis=1, inplace=True)\n",
    "    df = data.T\n",
    "    df.columns = cty_geoid\n",
    "    df_all = df_all.append(df)"
   ]
  },
  {
   "cell_type": "code",
   "execution_count": 108,
   "metadata": {},
   "outputs": [],
   "source": [
    "df_all.index = pd.to_datetime(df_all.index)\n",
    "df_all = df_all.sort_index()\n",
    "df_all.dropna(inplace=True)"
   ]
  },
  {
   "cell_type": "code",
   "execution_count": 109,
   "metadata": {},
   "outputs": [],
   "source": [
    "df_all.to_csv(\"historical_100-hr_fuel_moisture_1980-2019_montana_climdivs.csv\")"
   ]
  }
 ],
 "metadata": {
  "kernelspec": {
   "display_name": "Python 3",
   "language": "python",
   "name": "python3"
  },
  "language_info": {
   "codemirror_mode": {
    "name": "ipython",
    "version": 3
   },
   "file_extension": ".py",
   "mimetype": "text/x-python",
   "name": "python",
   "nbconvert_exporter": "python",
   "pygments_lexer": "ipython3",
   "version": "3.7.4-final"
  }
 },
 "nbformat": 4,
 "nbformat_minor": 4
}